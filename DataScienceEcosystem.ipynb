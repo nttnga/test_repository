{
 "cells": [
  {
   "cell_type": "markdown",
   "id": "4d5ef2d5-fbdf-4da8-80b8-04614a61eec2",
   "metadata": {},
   "source": [
    "# Data Science Tools and Ecosystem"
   ]
  },
  {
   "cell_type": "markdown",
   "id": "aa6d28e5-509b-4f8e-8001-233515a6862e",
   "metadata": {},
   "source": [
    "In this notebook, Data Science tools and ecosystems are summarized.\n",
    "**Objectives:**\n",
    "\n",
    "- Get an overview of code and markdown cells\n",
    "- Execute an existing code cell\n",
    "- Insert and delete a code cell\n",
    "- Write comments in Python\n",
    "- Create and use Markdown cells"
   ]
  },
  {
   "cell_type": "markdown",
   "id": "a402552e-b0c6-44b8-8faa-19603f2ddfd6",
   "metadata": {},
   "source": [
    "Some of the popular languages that Data Scientists use are:\n",
    "   \n",
    "   1. Python\n",
    "   2. R\n",
    "   3. SQL\n",
    "   4. Julia"
   ]
  },
  {
   "cell_type": "markdown",
   "id": "66e6f8c7-344e-4aea-8865-5adeb0bd2e90",
   "metadata": {},
   "source": [
    "Some of the commonly used libraries used by Data Scientists include:\n",
    "   \n",
    "   1. Pandas\n",
    "   2. NumPy\n",
    "   3. Matplotlib\n",
    "   4. Scikit-learn"
   ]
  },
  {
   "cell_type": "markdown",
   "id": "9b8c8d68-7b42-422d-ac87-204d2a50a1d5",
   "metadata": {},
   "source": [
    "   | Data Science Tools      |\n",
    "   |-------------------------|\n",
    "   | Jupyter Notebook        |\n",
    "   | RStudio                 |\n",
    "   | Apache Zeppelin         |"
   ]
  },
  {
   "cell_type": "markdown",
   "id": "c183680e-6cb2-4b13-bfd7-878bde58e442",
   "metadata": {},
   "source": [
    "### Below are a few examples of evaluating arithmetic expressions in Python."
   ]
  },
  {
   "cell_type": "code",
   "execution_count": 8,
   "id": "51bdbe7e-df11-4ae5-89ee-964a61fa33e1",
   "metadata": {},
   "outputs": [
    {
     "data": {
      "text/plain": [
       "17"
      ]
     },
     "execution_count": 8,
     "metadata": {},
     "output_type": "execute_result"
    }
   ],
   "source": [
    "# This is a simple arithmetic expression to multiply then add integers.\n",
    "result = (3 * 4) + 5\n",
    "result"
   ]
  },
  {
   "cell_type": "code",
   "execution_count": 10,
   "id": "4abe9a03-ed9a-42e0-a1ae-78b6ba9b4526",
   "metadata": {},
   "outputs": [
    {
     "data": {
      "text/plain": [
       "3.3333333333333335"
      ]
     },
     "execution_count": 10,
     "metadata": {},
     "output_type": "execute_result"
    }
   ],
   "source": [
    "# This will convert 200 minutes to hours by dividing by 60.\n",
    "hours = 200 / 60\n",
    "hours"
   ]
  },
  {
   "cell_type": "markdown",
   "id": "98de6981-1e09-4b05-bc1b-c9dae728a2a4",
   "metadata": {},
   "source": [
    "## Author\n",
    "Nguyen Thi Thanh Nga"
   ]
  },
  {
   "cell_type": "code",
   "execution_count": null,
   "id": "51921b62-ff31-4124-96db-23011d0c8893",
   "metadata": {},
   "outputs": [],
   "source": []
  }
 ],
 "metadata": {
  "kernelspec": {
   "display_name": "Python [conda env:base] *",
   "language": "python",
   "name": "conda-base-py"
  },
  "language_info": {
   "codemirror_mode": {
    "name": "ipython",
    "version": 3
   },
   "file_extension": ".py",
   "mimetype": "text/x-python",
   "name": "python",
   "nbconvert_exporter": "python",
   "pygments_lexer": "ipython3",
   "version": "3.12.7"
  }
 },
 "nbformat": 4,
 "nbformat_minor": 5
}
